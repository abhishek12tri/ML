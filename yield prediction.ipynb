{
 "cells": [
  {
   "cell_type": "code",
   "execution_count": 16,
   "metadata": {},
   "outputs": [
    {
     "name": "stdout",
     "output_type": "stream",
     "text": [
      "   Sr.No.    pH    EC    OC      N  P    K     S    Zn    Fe    Cu     Mn  \\\n",
      "0     1.0  7.16  0.46  0.78  229.9  8  365  16.0  0.42  0.88  1.92   9.55   \n",
      "1     2.0  7.15  0.32  0.73  223.5  6  310   6.0  0.27  0.58  2.44  10.05   \n",
      "2     3.0  7.10  0.44  0.82  236.2  8  260   8.0  0.45  0.42  2.70   6.28   \n",
      "3     4.0  7.08  0.64  0.73  223.5  6  365  14.0  0.42  0.60  2.65   9.99   \n",
      "4     5.0  7.12  0.51  0.85  293.4  4  345  12.0  0.50  0.57  3.35   8.42   \n",
      "\n",
      "      B  yield1  \n",
      "0  0.90    14.3  \n",
      "1  0.90    13.6  \n",
      "2  1.08    14.3  \n",
      "3  0.72    11.3  \n",
      "4  0.72    11.5  \n"
     ]
    }
   ],
   "source": [
    "import pandas as pd\n",
    "data = pd.read_excel('data1.xlsx')\n",
    "print(data.head())"
   ]
  },
  {
   "cell_type": "code",
   "execution_count": 17,
   "metadata": {},
   "outputs": [],
   "source": [
    "data = data.dropna()\n",
    "data = data.drop('Sr.No.',axis = 1)\n",
    "X = data.iloc[:,0:12]\n",
    "Y = data['yield1']\n"
   ]
  },
  {
   "cell_type": "code",
   "execution_count": 61,
   "metadata": {},
   "outputs": [],
   "source": [
    "from sklearn.model_selection import train_test_split\n",
    "X_train, X_test, Y_train, Y_test = train_test_split(X, Y, test_size=0.37, random_state=4)"
   ]
  },
  {
   "cell_type": "code",
   "execution_count": 62,
   "metadata": {},
   "outputs": [
    {
     "data": {
      "text/plain": [
       "LinearRegression(copy_X=True, fit_intercept=True, n_jobs=None,\n",
       "         normalize=False)"
      ]
     },
     "execution_count": 62,
     "metadata": {},
     "output_type": "execute_result"
    }
   ],
   "source": [
    "from sklearn.linear_model import LinearRegression\n",
    "lm = LinearRegression()\n",
    "lm.fit(X_train ,Y_train)"
   ]
  },
  {
   "cell_type": "code",
   "execution_count": 63,
   "metadata": {},
   "outputs": [],
   "source": [
    "Y_train_pred = lm.predict(X_train)\n",
    "Y_test_pred = lm.predict(X_test)"
   ]
  },
  {
   "cell_type": "code",
   "execution_count": 64,
   "metadata": {},
   "outputs": [
    {
     "data": {
      "text/html": [
       "<div>\n",
       "<style scoped>\n",
       "    .dataframe tbody tr th:only-of-type {\n",
       "        vertical-align: middle;\n",
       "    }\n",
       "\n",
       "    .dataframe tbody tr th {\n",
       "        vertical-align: top;\n",
       "    }\n",
       "\n",
       "    .dataframe thead th {\n",
       "        text-align: right;\n",
       "    }\n",
       "</style>\n",
       "<table border=\"1\" class=\"dataframe\">\n",
       "  <thead>\n",
       "    <tr style=\"text-align: right;\">\n",
       "      <th></th>\n",
       "      <th>predicted</th>\n",
       "    </tr>\n",
       "    <tr>\n",
       "      <th>yield1</th>\n",
       "      <th></th>\n",
       "    </tr>\n",
       "  </thead>\n",
       "  <tbody>\n",
       "    <tr>\n",
       "      <th>16.70</th>\n",
       "      <td>18.030873</td>\n",
       "    </tr>\n",
       "    <tr>\n",
       "      <th>13.18</th>\n",
       "      <td>13.941892</td>\n",
       "    </tr>\n",
       "    <tr>\n",
       "      <th>15.10</th>\n",
       "      <td>14.179324</td>\n",
       "    </tr>\n",
       "    <tr>\n",
       "      <th>13.40</th>\n",
       "      <td>13.587038</td>\n",
       "    </tr>\n",
       "    <tr>\n",
       "      <th>14.60</th>\n",
       "      <td>15.482686</td>\n",
       "    </tr>\n",
       "  </tbody>\n",
       "</table>\n",
       "</div>"
      ],
      "text/plain": [
       "        predicted\n",
       "yield1           \n",
       "16.70   18.030873\n",
       "13.18   13.941892\n",
       "15.10   14.179324\n",
       "13.40   13.587038\n",
       "14.60   15.482686"
      ]
     },
     "execution_count": 64,
     "metadata": {},
     "output_type": "execute_result"
    }
   ],
   "source": [
    "df = pd.DataFrame(Y_test_pred, Y_test,columns=['predicted'])\n",
    "df.head()"
   ]
  },
  {
   "cell_type": "code",
   "execution_count": 65,
   "metadata": {},
   "outputs": [
    {
     "name": "stdout",
     "output_type": "stream",
     "text": [
      "4.742867524704388\n"
     ]
    }
   ],
   "source": [
    "from sklearn.metrics import mean_squared_error\n",
    "mse=mean_squared_error(Y_test, Y_test_pred)\n",
    "print(mse)"
   ]
  },
  {
   "cell_type": "code",
   "execution_count": null,
   "metadata": {},
   "outputs": [],
   "source": []
  }
 ],
 "metadata": {
  "kernelspec": {
   "display_name": "Python 3",
   "language": "python",
   "name": "python3"
  },
  "language_info": {
   "codemirror_mode": {
    "name": "ipython",
    "version": 3
   },
   "file_extension": ".py",
   "mimetype": "text/x-python",
   "name": "python",
   "nbconvert_exporter": "python",
   "pygments_lexer": "ipython3",
   "version": "3.7.3"
  }
 },
 "nbformat": 4,
 "nbformat_minor": 2
}
